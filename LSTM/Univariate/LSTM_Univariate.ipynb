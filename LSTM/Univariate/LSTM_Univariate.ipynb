{
  "nbformat": 4,
  "nbformat_minor": 0,
  "metadata": {
    "colab": {
      "name": "LSTM_Univariate.ipynb",
      "provenance": [],
      "collapsed_sections": []
    },
    "kernelspec": {
      "name": "python3",
      "display_name": "Python 3"
    },
    "language_info": {
      "name": "python"
    }
  },
  "cells": [
    {
      "cell_type": "code",
      "metadata": {
        "colab": {
          "base_uri": "https://localhost:8080/"
        },
        "id": "F1F9o2QjTSda",
        "outputId": "74cda313-689f-4cb8-c4d3-a9c0a0006fd5"
      },
      "source": [
        "#Mount Drive\n",
        "from google.colab import drive \n",
        "drive.mount('/content/drive')"
      ],
      "execution_count": 1,
      "outputs": [
        {
          "output_type": "stream",
          "text": [
            "Mounted at /content/drive\n"
          ],
          "name": "stdout"
        }
      ]
    },
    {
      "cell_type": "code",
      "metadata": {
        "id": "vxdtEGjPTrcs"
      },
      "source": [
        "#Import Libraries\n",
        "import numpy as np\n",
        "import matplotlib.pyplot as plt\n",
        "import pandas as pd\n",
        "import math\n",
        "from sklearn.preprocessing import MinMaxScaler\n",
        "from sklearn.metrics import mean_squared_error\n",
        "from keras.models import Sequential\n",
        "from keras.layers import Dense\n",
        "from keras.layers import LSTM"
      ],
      "execution_count": 2,
      "outputs": []
    },
    {
      "cell_type": "code",
      "metadata": {
        "colab": {
          "base_uri": "https://localhost:8080/",
          "height": 424
        },
        "id": "eDfTwh_OTuDw",
        "outputId": "a341d42d-b5f3-4525-9ede-347c42e6d5df"
      },
      "source": [
        "#See the data\n",
        "dataframe = pd.read_csv('/content/drive/MyDrive/train_csv.csv', usecols=[2], engine='python')\n",
        "dataset = dataframe.values\n",
        "dataframe"
      ],
      "execution_count": 3,
      "outputs": [
        {
          "output_type": "execute_result",
          "data": {
            "text/html": [
              "<div>\n",
              "<style scoped>\n",
              "    .dataframe tbody tr th:only-of-type {\n",
              "        vertical-align: middle;\n",
              "    }\n",
              "\n",
              "    .dataframe tbody tr th {\n",
              "        vertical-align: top;\n",
              "    }\n",
              "\n",
              "    .dataframe thead th {\n",
              "        text-align: right;\n",
              "    }\n",
              "</style>\n",
              "<table border=\"1\" class=\"dataframe\">\n",
              "  <thead>\n",
              "    <tr style=\"text-align: right;\">\n",
              "      <th></th>\n",
              "      <th>feature</th>\n",
              "    </tr>\n",
              "  </thead>\n",
              "  <tbody>\n",
              "    <tr>\n",
              "      <th>0</th>\n",
              "      <td>237.97</td>\n",
              "    </tr>\n",
              "    <tr>\n",
              "      <th>1</th>\n",
              "      <td>57.93</td>\n",
              "    </tr>\n",
              "    <tr>\n",
              "      <th>2</th>\n",
              "      <td>90.53</td>\n",
              "    </tr>\n",
              "    <tr>\n",
              "      <th>3</th>\n",
              "      <td>260.75</td>\n",
              "    </tr>\n",
              "    <tr>\n",
              "      <th>4</th>\n",
              "      <td>49.70</td>\n",
              "    </tr>\n",
              "    <tr>\n",
              "      <th>...</th>\n",
              "      <td>...</td>\n",
              "    </tr>\n",
              "    <tr>\n",
              "      <th>75</th>\n",
              "      <td>469.72</td>\n",
              "    </tr>\n",
              "    <tr>\n",
              "      <th>76</th>\n",
              "      <td>406.79</td>\n",
              "    </tr>\n",
              "    <tr>\n",
              "      <th>77</th>\n",
              "      <td>128.91</td>\n",
              "    </tr>\n",
              "    <tr>\n",
              "      <th>78</th>\n",
              "      <td>85.28</td>\n",
              "    </tr>\n",
              "    <tr>\n",
              "      <th>79</th>\n",
              "      <td>121.12</td>\n",
              "    </tr>\n",
              "  </tbody>\n",
              "</table>\n",
              "<p>80 rows × 1 columns</p>\n",
              "</div>"
            ],
            "text/plain": [
              "    feature\n",
              "0    237.97\n",
              "1     57.93\n",
              "2     90.53\n",
              "3    260.75\n",
              "4     49.70\n",
              "..      ...\n",
              "75   469.72\n",
              "76   406.79\n",
              "77   128.91\n",
              "78    85.28\n",
              "79   121.12\n",
              "\n",
              "[80 rows x 1 columns]"
            ]
          },
          "metadata": {
            "tags": []
          },
          "execution_count": 3
        }
      ]
    },
    {
      "cell_type": "code",
      "metadata": {
        "colab": {
          "base_uri": "https://localhost:8080/"
        },
        "id": "WxzsHIQDTwSL",
        "outputId": "4cfec963-12e3-4840-b942-ce8916a60ec5"
      },
      "source": [
        "# MinMax scaling for 0 to 1\n",
        "scaler = MinMaxScaler(feature_range=(0, 1))\n",
        "dataset = scaler.fit_transform(dataset)\n",
        "len(dataset)"
      ],
      "execution_count": 4,
      "outputs": [
        {
          "output_type": "execute_result",
          "data": {
            "text/plain": [
              "80"
            ]
          },
          "metadata": {
            "tags": []
          },
          "execution_count": 4
        }
      ]
    },
    {
      "cell_type": "code",
      "metadata": {
        "colab": {
          "base_uri": "https://localhost:8080/"
        },
        "id": "NW6BUiCBTx4f",
        "outputId": "d37520f4-5863-41cc-f12c-459e2543452d"
      },
      "source": [
        "# splitting the 80% training and 20% testing\n",
        "train_size = int(len(dataset) * 0.8)\n",
        "test_size = len(dataset) - train_size\n",
        "train, test = dataset[0:train_size,:], dataset[train_size:len(dataset),:]\n",
        "print(len(train), len(test))"
      ],
      "execution_count": 5,
      "outputs": [
        {
          "output_type": "stream",
          "text": [
            "64 16\n"
          ],
          "name": "stdout"
        }
      ]
    },
    {
      "cell_type": "code",
      "metadata": {
        "id": "ztayZaHXTzfO"
      },
      "source": [
        "# function for pre processing data for RNN.\n",
        "def create_dataset(dataset, no_seq=1):\n",
        "    dataX, dataY = [], []\n",
        "    for i in range(len(dataset)-no_seq-1):\n",
        "        a = dataset[i:(i+no_seq), 0]\n",
        "        dataX.append(a)\n",
        "        dataY.append(dataset[i + no_seq, 0])\n",
        "    return np.array(dataX), np.array(dataY)"
      ],
      "execution_count": 6,
      "outputs": []
    },
    {
      "cell_type": "code",
      "metadata": {
        "colab": {
          "base_uri": "https://localhost:8080/"
        },
        "id": "sTECGxopT1JI",
        "outputId": "0404128d-bcb3-434c-d112-f075aed71ee5"
      },
      "source": [
        "# with number of sequence=1, splitting of data takes place. \n",
        "no_seq = 1\n",
        "trainX, trainY = create_dataset(train, no_seq)\n",
        "testX, testY = create_dataset(test, no_seq)\n",
        "print(len(trainX),len(trainY))\n",
        "print(len(testX),len(testY))"
      ],
      "execution_count": 7,
      "outputs": [
        {
          "output_type": "stream",
          "text": [
            "62 62\n",
            "14 14\n"
          ],
          "name": "stdout"
        }
      ]
    },
    {
      "cell_type": "code",
      "metadata": {
        "id": "RTliNXHzT2si"
      },
      "source": [
        "#Reshape dataset\n",
        "trainX = np.reshape(trainX, (trainX.shape[0], 1, trainX.shape[1]))\n",
        "testX = np.reshape(testX, (testX.shape[0], 1, testX.shape[1]))"
      ],
      "execution_count": 8,
      "outputs": []
    },
    {
      "cell_type": "code",
      "metadata": {
        "id": "wPjx77FXT4eB",
        "colab": {
          "base_uri": "https://localhost:8080/"
        },
        "outputId": "cab82433-a245-4331-8f54-0f676a7300cf"
      },
      "source": [
        "#Make Model\n",
        "\n",
        "model = Sequential()\n",
        "\n",
        "model.add(LSTM(units=50, return_sequences=True,input_shape=(1, no_seq)))\n",
        "model.add(LSTM(units=50, return_sequences=False))\n",
        "model.add(Dense(units=25))\n",
        "model.add(Dense(units=1))\n",
        "\n",
        "model_url = '/content/drive/MyDrive/model_univariate.h5'\n",
        "model.save(model_url)\n",
        "print(\"Saved\")"
      ],
      "execution_count": 9,
      "outputs": [
        {
          "output_type": "stream",
          "text": [
            "WARNING:tensorflow:Compiled the loaded model, but the compiled metrics have yet to be built. `model.compile_metrics` will be empty until you train or evaluate the model.\n",
            "Saved\n"
          ],
          "name": "stdout"
        }
      ]
    },
    {
      "cell_type": "code",
      "metadata": {
        "id": "iKXRNYeAT6Tu"
      },
      "source": [
        "#compile\n",
        "model.compile(loss='mean_squared_error', optimizer='adam')"
      ],
      "execution_count": 10,
      "outputs": []
    },
    {
      "cell_type": "code",
      "metadata": {
        "colab": {
          "base_uri": "https://localhost:8080/"
        },
        "id": "UbSmFw92T7_K",
        "outputId": "8ab1b6f5-b509-41b8-d183-88ca912c9347"
      },
      "source": [
        "#Evaluation, replace with 1, if you want to display the epoch\n",
        "model.fit(trainX, trainY, epochs=50, batch_size=32, verbose=1)"
      ],
      "execution_count": 11,
      "outputs": [
        {
          "output_type": "stream",
          "text": [
            "Epoch 1/50\n",
            "2/2 [==============================] - 19s 10ms/step - loss: 0.0963\n",
            "Epoch 2/50\n",
            "2/2 [==============================] - 0s 8ms/step - loss: 0.0788\n",
            "Epoch 3/50\n",
            "2/2 [==============================] - 0s 8ms/step - loss: 0.0758\n",
            "Epoch 4/50\n",
            "2/2 [==============================] - 0s 8ms/step - loss: 0.0685\n",
            "Epoch 5/50\n",
            "2/2 [==============================] - 0s 6ms/step - loss: 0.0651\n",
            "Epoch 6/50\n",
            "2/2 [==============================] - 0s 8ms/step - loss: 0.0588\n",
            "Epoch 7/50\n",
            "2/2 [==============================] - 0s 9ms/step - loss: 0.0509\n",
            "Epoch 8/50\n",
            "2/2 [==============================] - 0s 8ms/step - loss: 0.0443\n",
            "Epoch 9/50\n",
            "2/2 [==============================] - 0s 9ms/step - loss: 0.0379\n",
            "Epoch 10/50\n",
            "2/2 [==============================] - 0s 11ms/step - loss: 0.0388\n",
            "Epoch 11/50\n",
            "2/2 [==============================] - 0s 8ms/step - loss: 0.0386\n",
            "Epoch 12/50\n",
            "2/2 [==============================] - 0s 7ms/step - loss: 0.0326\n",
            "Epoch 13/50\n",
            "2/2 [==============================] - 0s 7ms/step - loss: 0.0351\n",
            "Epoch 14/50\n",
            "2/2 [==============================] - 0s 8ms/step - loss: 0.0382\n",
            "Epoch 15/50\n",
            "2/2 [==============================] - 0s 10ms/step - loss: 0.0399\n",
            "Epoch 16/50\n",
            "2/2 [==============================] - 0s 12ms/step - loss: 0.0345\n",
            "Epoch 17/50\n",
            "2/2 [==============================] - 0s 8ms/step - loss: 0.0391\n",
            "Epoch 18/50\n",
            "2/2 [==============================] - 0s 11ms/step - loss: 0.0376\n",
            "Epoch 19/50\n",
            "2/2 [==============================] - 0s 6ms/step - loss: 0.0353\n",
            "Epoch 20/50\n",
            "2/2 [==============================] - 0s 6ms/step - loss: 0.0335\n",
            "Epoch 21/50\n",
            "2/2 [==============================] - 0s 8ms/step - loss: 0.0366\n",
            "Epoch 22/50\n",
            "2/2 [==============================] - 0s 7ms/step - loss: 0.0365\n",
            "Epoch 23/50\n",
            "2/2 [==============================] - 0s 8ms/step - loss: 0.0369\n",
            "Epoch 24/50\n",
            "2/2 [==============================] - 0s 9ms/step - loss: 0.0358\n",
            "Epoch 25/50\n",
            "2/2 [==============================] - 0s 14ms/step - loss: 0.0387\n",
            "Epoch 26/50\n",
            "2/2 [==============================] - 0s 8ms/step - loss: 0.0328\n",
            "Epoch 27/50\n",
            "2/2 [==============================] - 0s 8ms/step - loss: 0.0360\n",
            "Epoch 28/50\n",
            "2/2 [==============================] - 0s 8ms/step - loss: 0.0363\n",
            "Epoch 29/50\n",
            "2/2 [==============================] - 0s 9ms/step - loss: 0.0333\n",
            "Epoch 30/50\n",
            "2/2 [==============================] - 0s 8ms/step - loss: 0.0358\n",
            "Epoch 31/50\n",
            "2/2 [==============================] - 0s 6ms/step - loss: 0.0337\n",
            "Epoch 32/50\n",
            "2/2 [==============================] - 0s 6ms/step - loss: 0.0347\n",
            "Epoch 33/50\n",
            "2/2 [==============================] - 0s 7ms/step - loss: 0.0352\n",
            "Epoch 34/50\n",
            "2/2 [==============================] - 0s 8ms/step - loss: 0.0350\n",
            "Epoch 35/50\n",
            "2/2 [==============================] - 0s 6ms/step - loss: 0.0357\n",
            "Epoch 36/50\n",
            "2/2 [==============================] - 0s 6ms/step - loss: 0.0370\n",
            "Epoch 37/50\n",
            "2/2 [==============================] - 0s 5ms/step - loss: 0.0350\n",
            "Epoch 38/50\n",
            "2/2 [==============================] - 0s 6ms/step - loss: 0.0344\n",
            "Epoch 39/50\n",
            "2/2 [==============================] - 0s 7ms/step - loss: 0.0338\n",
            "Epoch 40/50\n",
            "2/2 [==============================] - 0s 6ms/step - loss: 0.0371\n",
            "Epoch 41/50\n",
            "2/2 [==============================] - 0s 6ms/step - loss: 0.0343\n",
            "Epoch 42/50\n",
            "2/2 [==============================] - 0s 7ms/step - loss: 0.0354\n",
            "Epoch 43/50\n",
            "2/2 [==============================] - 0s 8ms/step - loss: 0.0374\n",
            "Epoch 44/50\n",
            "2/2 [==============================] - 0s 6ms/step - loss: 0.0352\n",
            "Epoch 45/50\n",
            "2/2 [==============================] - 0s 6ms/step - loss: 0.0346\n",
            "Epoch 46/50\n",
            "2/2 [==============================] - 0s 13ms/step - loss: 0.0344\n",
            "Epoch 47/50\n",
            "2/2 [==============================] - 0s 6ms/step - loss: 0.0332\n",
            "Epoch 48/50\n",
            "2/2 [==============================] - 0s 5ms/step - loss: 0.0343\n",
            "Epoch 49/50\n",
            "2/2 [==============================] - 0s 7ms/step - loss: 0.0333\n",
            "Epoch 50/50\n",
            "2/2 [==============================] - 0s 6ms/step - loss: 0.0358\n"
          ],
          "name": "stdout"
        },
        {
          "output_type": "execute_result",
          "data": {
            "text/plain": [
              "<keras.callbacks.History at 0x7f995c7dbb50>"
            ]
          },
          "metadata": {
            "tags": []
          },
          "execution_count": 11
        }
      ]
    },
    {
      "cell_type": "code",
      "metadata": {
        "colab": {
          "base_uri": "https://localhost:8080/",
          "height": 281
        },
        "id": "xAjxymGHT9b3",
        "outputId": "ec3a9f1f-abe1-46fb-d2b7-bc4993bf2050"
      },
      "source": [
        "#show the graph of loss function\n",
        "plt.title('Loss')\n",
        "plt.plot(model.history.history['loss'], label='loss value')\n",
        "plt.legend()\n",
        "plt.show()"
      ],
      "execution_count": 12,
      "outputs": [
        {
          "output_type": "display_data",
          "data": {
            "image/png": "[encoded data removed]",
            "text/plain": [
              "<Figure size 432x288 with 1 Axes>"
            ]
          },
          "metadata": {
            "tags": [],
            "needs_background": "light"
          }
        }
      ]
    },
    {
      "cell_type": "code",
      "metadata": {
        "colab": {
          "base_uri": "https://localhost:8080/",
          "height": 302
        },
        "id": "LNPp4GVxT_nW",
        "outputId": "6e8c6a23-9b61-42dc-f1f2-64b2173dafe4"
      },
      "source": [
        "#Prediction use RSME\n",
        "trainPredict = model.predict(trainX)\n",
        "testPredict = model.predict(testX)\n",
        "\n",
        "trainPredict = scaler.inverse_transform(trainPredict)\n",
        "trainY = scaler.inverse_transform([trainY])\n",
        "testPredict = scaler.inverse_transform(testPredict)\n",
        "testY = scaler.inverse_transform([testY])\n",
        "\n",
        "trainScore = math.sqrt(mean_squared_error(trainY[0], trainPredict[:,0]))\n",
        "print('Train Score: %.2f RMSE' % (trainScore))\n",
        "testScore = math.sqrt(mean_squared_error(testY[0], testPredict[:,0]))\n",
        "print('Test Score: %.2f RMSE' % (testScore))\n",
        "\n",
        "trainPredictPlot = np.empty_like(dataset)\n",
        "trainPredictPlot[:, :] = np.nan\n",
        "trainPredictPlot[no_seq:len(trainPredict)+no_seq, :] = trainPredict\n",
        "testPredictPlot = np.empty_like(dataset)\n",
        "testPredictPlot[:, :] = np.nan\n",
        "testPredictPlot[len(trainPredict)+(no_seq*2)+1:len(dataset)-1, :] = testPredict\n",
        "plt.plot(scaler.inverse_transform(dataset))\n",
        "plt.plot(trainPredictPlot)\n",
        "plt.plot(testPredictPlot)\n",
        "plt.show()"
      ],
      "execution_count": 13,
      "outputs": [
        {
          "output_type": "stream",
          "text": [
            "Train Score: 83.76 RMSE\n",
            "Test Score: 124.97 RMSE\n"
          ],
          "name": "stdout"
        },
        {
          "output_type": "display_data",
          "data": {
            "image/png": "[encoded data removed]",
            "text/plain": [
              "<Figure size 432x288 with 1 Axes>"
            ]
          },
          "metadata": {
            "tags": [],
            "needs_background": "light"
          }
        }
      ]
    },
    {
      "cell_type": "code",
      "metadata": {
        "colab": {
          "base_uri": "https://localhost:8080/"
        },
        "id": "bqEqMuyaUDJN",
        "outputId": "60ceda5b-f939-4a61-e308-5c402678a5a6"
      },
      "source": [
        "#Predict Future\n",
        "inference_data = pd.read_csv('/content/drive/MyDrive/test_csv.csv')\n",
        "\n",
        "No_test_data = len(inference_data)\n",
        "\n",
        "# Number of features to be found.\n",
        "print(No_test_data)"
      ],
      "execution_count": 14,
      "outputs": [
        {
          "output_type": "stream",
          "text": [
            "40\n"
          ],
          "name": "stdout"
        }
      ]
    },
    {
      "cell_type": "code",
      "metadata": {
        "colab": {
          "base_uri": "https://localhost:8080/"
        },
        "id": "FI4q3u6GUE_3",
        "outputId": "de6dcaba-164e-4bbd-efd1-085a96f2fcda"
      },
      "source": [
        "# Prediction taking the last dataset of train and predicting the rest 39 features.\n",
        "\n",
        "for i in range(79, 79+No_test_data):\n",
        "    \n",
        "    # last day of the training dataset.\n",
        "    if i == 79:\n",
        "        last_day = dataframe[i:i+1].values\n",
        "        last_day = scaler.transform(last_day)\n",
        "        X_test = []\n",
        "        X_test.append(last_day)\n",
        "        X_test = np.array(X_test)\n",
        "        X_test = np.reshape(X_test, (X_test.shape[0], X_test.shape[1], 1))\n",
        "        pred_price = model.predict(X_test)\n",
        "        pred_price = scaler.inverse_transform(pred_price)\n",
        "        print(pred_price)\n",
        "        \n",
        "    # rest 39 features.   \n",
        "    else:\n",
        "        last_day = pred_value\n",
        "        last_day = scaler.transform(last_day)\n",
        "        X_test = []\n",
        "        X_test.append(last_day)\n",
        "        X_test = np.array(X_test)\n",
        "        X_test = np.reshape(X_test, (X_test.shape[0], X_test.shape[1], 1))\n",
        "        pred_price = model.predict(X_test)\n",
        "        pred_price = scaler.inverse_transform(pred_price)\n",
        "        print(pred_price)\n",
        "        \n",
        "    # replacing the old prediction value with new for next feature prediction.\n",
        "    pred_value = pred_price"
      ],
      "execution_count": 15,
      "outputs": [
        {
          "output_type": "stream",
          "text": [
            "[[130.56525]]\n",
            "[[132.3765]]\n",
            "[[132.72432]]\n",
            "[[132.79112]]\n",
            "[[132.80394]]\n",
            "[[132.80643]]\n",
            "[[132.8069]]\n",
            "[[132.80699]]\n",
            "[[132.80699]]\n",
            "[[132.80699]]\n",
            "[[132.80699]]\n",
            "[[132.80699]]\n",
            "[[132.80699]]\n",
            "[[132.80699]]\n",
            "[[132.80699]]\n",
            "[[132.80699]]\n",
            "[[132.80699]]\n",
            "[[132.80699]]\n",
            "[[132.80699]]\n",
            "[[132.80699]]\n",
            "[[132.80699]]\n",
            "[[132.80699]]\n",
            "[[132.80699]]\n",
            "[[132.80699]]\n",
            "[[132.80699]]\n",
            "[[132.80699]]\n",
            "[[132.80699]]\n",
            "[[132.80699]]\n",
            "[[132.80699]]\n",
            "[[132.80699]]\n",
            "[[132.80699]]\n",
            "[[132.80699]]\n",
            "[[132.80699]]\n",
            "[[132.80699]]\n",
            "[[132.80699]]\n",
            "[[132.80699]]\n",
            "[[132.80699]]\n",
            "[[132.80699]]\n",
            "[[132.80699]]\n",
            "[[132.80699]]\n"
          ],
          "name": "stdout"
        }
      ]
    }
  ]
}