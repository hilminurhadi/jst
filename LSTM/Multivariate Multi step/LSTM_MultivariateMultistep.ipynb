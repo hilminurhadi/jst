{
  "nbformat": 4,
  "nbformat_minor": 0,
  "metadata": {
    "colab": {
      "name": "LSTM_MultivariateMultistep.ipynb",
      "provenance": [],
      "collapsed_sections": []
    },
    "kernelspec": {
      "name": "python3",
      "display_name": "Python 3"
    },
    "language_info": {
      "name": "python"
    }
  },
  "cells": [
    {
      "cell_type": "code",
      "metadata": {
        "id": "mGr29UHGBbkP"
      },
      "source": [
        "#Mount Drive\n",
        "from google.colab import drive \n",
        "drive.mount('/content/drive')"
      ],
      "execution_count": null,
      "outputs": []
    },
    {
      "cell_type": "code",
      "metadata": {
        "id": "n9QYWnj_Bhp-"
      },
      "source": [
        "#Import Libraries\n",
        "import numpy as np\n",
        "import matplotlib.pyplot as plt\n",
        "import pandas as pd\n",
        "import statsmodels.api as sm\n",
        "from pandas import DataFrame , concat\n",
        "from sklearn.metrics import mean_absolute_error , mean_squared_error\n",
        "%matplotlib inline\n",
        "%config InlineBackend.figure_format = 'retina'\n",
        "from numpy import mean , concatenate\n",
        "from math import sqrt\n",
        "from pandas import read_csv\n",
        "from sklearn.preprocessing import MinMaxScaler\n",
        "from tensorflow.keras.models import Sequential\n",
        "from tensorflow.keras.layers import Dense,LSTM,Activation\n",
        "from numpy import array , hstack\n",
        "from tensorflow import keras\n",
        "import tensorflow as tf"
      ],
      "execution_count": null,
      "outputs": []
    },
    {
      "cell_type": "code",
      "metadata": {
        "id": "QXVMviF4Bjo7"
      },
      "source": [
        "url = \"/content/drive/MyDrive/Dataset.csv\"\n",
        "dataset = pd.read_csv(url)"
      ],
      "execution_count": null,
      "outputs": []
    },
    {
      "cell_type": "code",
      "metadata": {
        "id": "ynhl-cGOBlwu"
      },
      "source": [
        "x_1 = dataset['x1']\n",
        "x_2 = dataset['x2']\n",
        "y = dataset['y']\n",
        "\n",
        "x_1 = x_1.values\n",
        "x_2 = x_2.values\n",
        "y = y.values"
      ],
      "execution_count": null,
      "outputs": []
    },
    {
      "cell_type": "code",
      "metadata": {
        "id": "lLeUC2JFBnoY"
      },
      "source": [
        "plt.figure(figsize=(30, 6))\n",
        "plt.plot(x_1[:10064] , label='x1')\n",
        "plt.plot(x_2[:10064] , label='x2')\n",
        "plt.plot(y[:10064] , label='y')\n",
        "plt.legend(loc='upper right')\n",
        "plt.title(\"Dataset\" ,  fontsize=18)\n",
        "plt.xlabel('Time step' ,  fontsize=18)\n",
        "plt.ylabel('Values' , fontsize=18)\n",
        "plt.legend()\n",
        "plt.show()"
      ],
      "execution_count": null,
      "outputs": []
    },
    {
      "cell_type": "code",
      "metadata": {
        "id": "mr9yqWYCBpXV"
      },
      "source": [
        "# convert to [rows, columns] structure\n",
        "x_1 = x_1.reshape((len(x_1), 1))\n",
        "x_2 = x_2.reshape((len(x_2), 1))\n",
        "y = y.reshape((len(y), 1))\n",
        "\n",
        "print (\"x_1.shape\" , x_1.shape) \n",
        "print (\"x_2.shape\" , x_2.shape) \n",
        "print (\"y.shape\" , y.shape)"
      ],
      "execution_count": null,
      "outputs": []
    },
    {
      "cell_type": "code",
      "metadata": {
        "id": "MJk17j-pBrOU"
      },
      "source": [
        "# normalization features\n",
        "scaler = MinMaxScaler(feature_range=(0, 1))\n",
        "x_1_scaled = scaler.fit_transform(x_1)\n",
        "x_2_scaled = scaler.fit_transform(x_2)\n",
        "y_scaled = scaler.fit_transform(y)\n",
        "\n",
        "# horizontally stack columns\n",
        "dataset_stacked = hstack((x_1_scaled, x_2_scaled, y_scaled))\n",
        "\n",
        "print (\"dataset_stacked.shape\" , dataset_stacked.shape)"
      ],
      "execution_count": null,
      "outputs": []
    },
    {
      "cell_type": "code",
      "metadata": {
        "id": "yqgZO7a1Bs-z"
      },
      "source": [
        "# split a multivariate sequence into samples\n",
        "def split_sequences(sequences, n_steps_in, n_steps_out):\n",
        "\tX, y = list(), list()\n",
        "\tfor i in range(len(sequences)):\n",
        "\t\t# find the end of this pattern\n",
        "\t\tend_ix = i + n_steps_in\n",
        "\t\tout_end_ix = end_ix + n_steps_out-1\n",
        "\t\t# check if we are beyond the dataset\n",
        "\t\tif out_end_ix > len(sequences):\n",
        "\t\t\tbreak\n",
        "\t\t# gather input and output parts of the pattern\n",
        "\t\tseq_x, seq_y = sequences[i:end_ix, :-1], sequences[end_ix-1:out_end_ix, -1]\n",
        "\t\tX.append(seq_x)\n",
        "\t\ty.append(seq_y)\n",
        "\treturn array(X), array(y)"
      ],
      "execution_count": null,
      "outputs": []
    },
    {
      "cell_type": "code",
      "metadata": {
        "id": "yGiJXPH8Bu1j"
      },
      "source": [
        "# choose a number of time steps #change this accordingly\n",
        "n_steps_in, n_steps_out = 60 , 30 \n",
        "\n",
        "# covert into input/output\n",
        "X, y = split_sequences(dataset_stacked, n_steps_in, n_steps_out)\n",
        "\n",
        "print (\"X.shape\" , X.shape) \n",
        "print (\"y.shape\" , y.shape)"
      ],
      "execution_count": null,
      "outputs": []
    },
    {
      "cell_type": "code",
      "metadata": {
        "id": "tnedCPpnBwm1"
      },
      "source": [
        "split = 1258*25\n",
        "train_X , train_y = X[:split, :] , y[:split, :]\n",
        "test_X , test_y = X[split:, :] , y[split:, :]\n",
        "\n",
        "n_features = train_X.shape[2]"
      ],
      "execution_count": null,
      "outputs": []
    },
    {
      "cell_type": "code",
      "metadata": {
        "id": "6nNWHlKOBzNK"
      },
      "source": [
        "print (\"train_X.shape\" , train_X.shape) \n",
        "print (\"train_y.shape\" , train_y.shape) \n",
        "print (\"test_X.shape\" , test_X.shape) \n",
        "print (\"test_y.shape\" , test_y.shape) \n",
        "print (\"n_features\" , n_features)"
      ],
      "execution_count": null,
      "outputs": []
    },
    {
      "cell_type": "code",
      "metadata": {
        "id": "vvhA3yK1B6sT"
      },
      "source": [
        "#optimizer learning rate\n",
        "opt = keras.optimizers.Adam(learning_rate=0.01)\n",
        "\n",
        "# define model\n",
        "model = Sequential()\n",
        "model.add(LSTM(50, activation='relu', return_sequences=True, input_shape=(n_steps_in, n_features)))\n",
        "model.add(LSTM(50, activation='relu'))\n",
        "model.add(Dense(n_steps_out))\n",
        "model.add(Activation('linear'))\n",
        "model.compile(loss='mse' , optimizer=opt , metrics=['mse'])"
      ],
      "execution_count": null,
      "outputs": []
    },
    {
      "cell_type": "code",
      "metadata": {
        "id": "4kZK_RH9B8u0"
      },
      "source": [
        "# Fit network\n",
        "history = model.fit(train_X , train_y , epochs=15 , steps_per_epoch=25 , verbose=1 ,validation_data=(test_X, test_y) ,shuffle=False)"
      ],
      "execution_count": null,
      "outputs": []
    },
    {
      "cell_type": "code",
      "metadata": {
        "id": "lGIplYJdB_fl"
      },
      "source": [
        "# Test Data Batch 1 , Test Data Batch 2 , Test Data Batch 3\n",
        "url_test = \"/content/drive/MyDrive/Test Data Batch 1.csv\"\n",
        "dataset_test_ok = pd.read_csv(url_test)\n",
        "dataset_test_ok.head()"
      ],
      "execution_count": null,
      "outputs": []
    },
    {
      "cell_type": "code",
      "metadata": {
        "id": "FfAkRMJgCBcx"
      },
      "source": [
        "# read test data\n",
        "x1_test = dataset_test_ok['x1'].values\n",
        "x2_test = dataset_test_ok['x2'].values\n",
        "y_test = dataset_test_ok['y'].values # no need to scale\n",
        "\n",
        "# convert to [rows, columns] structure\n",
        "x1_test = x1_test.reshape((len(x1_test), 1))\n",
        "x2_test = x2_test.reshape((len(x2_test), 1))\n",
        "y_test = y_test.reshape((len(y_test), 1))\n",
        "\n",
        "x1_test_scaled = scaler.fit_transform(x1_test)\n",
        "x2_test_scaled = scaler.fit_transform(x2_test)"
      ],
      "execution_count": null,
      "outputs": []
    },
    {
      "cell_type": "code",
      "metadata": {
        "id": "9ci-j4UXCELX"
      },
      "source": [
        "def prep_data(x1_test_scaled , x2_test_scaled , y_test , start , end , last):\n",
        "    #prepare test data X\n",
        "    dataset_test = hstack((x1_test_scaled, x2_test_scaled))\n",
        "    dataset_test_X = dataset_test[start:end, :]\n",
        "    test_X_new = dataset_test_X.reshape(1, dataset_test_X.shape[0] , dataset_test_X.shape[1])\n",
        "\n",
        "    #prepare past and groundtruth\n",
        "    past_data = y_test[:end , :]\n",
        "    dataset_test_y = y_test[end:last , :]\n",
        "    scaler1 = MinMaxScaler(feature_range=(0, 1))\n",
        "    scaler1.fit(dataset_test_y)\n",
        "\n",
        "    # predictions\n",
        "    y_pred = model.predict(test_X_new)\n",
        "    y_pred_inv = scaler1.inverse_transform(y_pred)\n",
        "    y_pred_inv = y_pred_inv.reshape(n_steps_out,1)\n",
        "    y_pred_inv = y_pred_inv[:,0]\n",
        "    \n",
        "    return y_pred_inv , dataset_test_y , past_data\n",
        "\n",
        "# Calculate MAE and RMSE\n",
        "def evaluate_prediction(predictions, actual, model_name , start , end):\n",
        "    errors = predictions - actual\n",
        "    mse = np.square(errors).mean()\n",
        "    rmse = np.sqrt(mse)\n",
        "    mae = np.abs(errors).mean()\n",
        "\n",
        "    print(\"Test Data from {} to {}\".format(start, end))\n",
        "    print('Mean Absolute Error: {:.2f}'.format(mae))\n",
        "    print('Root Mean Square Error: {:.2f}'.format(rmse))\n",
        "    print('')\n",
        "    print('')\n",
        "\n",
        "# Plot history and future\n",
        "def plot_multistep(history, prediction1 , groundtruth , start , end):\n",
        "    \n",
        "    plt.figure(figsize=(20, 4))\n",
        "\n",
        "    y_mean = mean(prediction1)\n",
        "\n",
        "    range_history = len(history)\n",
        "    range_future = list(range(range_history, range_history + len(prediction1)))\n",
        "\n",
        "    plt.plot(np.arange(range_history), np.array(history), label='History')\n",
        "    plt.plot(range_future, np.array(prediction1),label='Forecasted with LSTM')\n",
        "    plt.plot(range_future, np.array(groundtruth),label='GroundTruth')\n",
        "\n",
        "    plt.legend(loc='upper right')\n",
        "    plt.title(\"Test Data from {} to {} , Mean = {:.2f}\".format(start, end, y_mean) ,  fontsize=18)\n",
        "    plt.xlabel('Time step' ,  fontsize=18)\n",
        "    plt.ylabel('y-value' , fontsize=18)"
      ],
      "execution_count": null,
      "outputs": []
    },
    {
      "cell_type": "code",
      "metadata": {
        "id": "3mCETc8GCGWk"
      },
      "source": [
        "# Plot history and future\n",
        "def plot_multistep(history, prediction1 , groundtruth , start , end):\n",
        "    plt.figure(figsize=(20, 4))\n",
        "    y_mean = mean(prediction1)\n",
        "    range_history = len(history)\n",
        "    range_future = list(range(range_history, range_history + len(prediction1)))\n",
        "    plt.plot(np.arange(range_history), np.array(history), label='History')\n",
        "    plt.plot(range_future, np.array(prediction1),label='Forecasted with LSTM')\n",
        "    plt.plot(range_future, np.array(groundtruth),label='GroundTruth')\n",
        "    plt.legend(loc='upper right')\n",
        "    plt.title(\"Test Data from {} to {} , Mean = {:.2f}\".format(start, end, y_mean) ,  fontsize=18)\n",
        "    plt.xlabel('Time step' ,  fontsize=18)\n",
        "    plt.ylabel('y-value' , fontsize=18)"
      ],
      "execution_count": null,
      "outputs": []
    },
    {
      "cell_type": "code",
      "metadata": {
        "id": "Y2g253RtCIcj"
      },
      "source": [
        "for i in range(120,240,60):\n",
        "    start = i\n",
        "    end = start + n_steps_in \n",
        "    last = end + n_steps_out \n",
        "    y_pred_inv , dataset_test_y , past_data = prep_data(x1_test_scaled , x2_test_scaled , y_test , start , end , last) \n",
        "    evaluate_prediction(y_pred_inv , dataset_test_y, 'LSTM' , start , end) \n",
        "    plot_multistep(past_data , y_pred_inv , dataset_test_y , start , end)"
      ],
      "execution_count": null,
      "outputs": []
    },
    {
      "cell_type": "code",
      "metadata": {
        "id": "dKAx4XLsCLq2"
      },
      "source": [
        "model_url = '/content/drive/MyDrive/model_mm.h5'\n",
        "model.save(model_url)\n",
        "print(\"Saved\")"
      ],
      "execution_count": null,
      "outputs": []
    }
  ]
}